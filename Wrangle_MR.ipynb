{
 "cells": [
  {
   "cell_type": "code",
   "execution_count": 1,
   "id": "a3d8ec2a",
   "metadata": {},
   "outputs": [],
   "source": [
    "import env\n",
    "import pandas as pd\n",
    "pd.set_option('display.max_columns', 50)\n",
    "\n",
    "import os"
   ]
  },
  {
   "cell_type": "code",
   "execution_count": 2,
   "id": "dce872de",
   "metadata": {},
   "outputs": [],
   "source": [
    "import seaborn as sns\n",
    "import matplotlib.pyplot as plt\n",
    "%config InlineBacked.figure_format = 'retina'\n",
    "import re"
   ]
  },
  {
   "cell_type": "markdown",
   "id": "11faece7",
   "metadata": {},
   "source": [
    "# Acquire"
   ]
  },
  {
   "cell_type": "markdown",
   "id": "5af61e43",
   "metadata": {},
   "source": [
    "1. Read tables\n",
    "2. Join tables"
   ]
  },
  {
   "cell_type": "code",
   "execution_count": 3,
   "id": "fa669c45",
   "metadata": {},
   "outputs": [],
   "source": [
    "def acquire_store_data():\n",
    "\n",
    "    filename = 'data/store_data_raw'\n",
    "    \n",
    "    # if file doesn't exist, acquire and cache\n",
    "    if not os.path.isfile(filename):\n",
    "    \n",
    "        db = 'superstore_db'\n",
    "        \n",
    "        categories_query = \"SELECT * FROM categories;\"\n",
    "        customers_query  = \"SELECT * FROM customers;\"\n",
    "        orders_query     = \"SELECT * FROM orders;\"\n",
    "        products_query   = \"SELECT * FROM products;\"\n",
    "        regions_query    = \"SELECT * FROM regions;\"\n",
    "\n",
    "        \n",
    "        categories = pd.read_sql(categories_query, \n",
    "                                 f'mysql+pymysql://{env.user}:{env.pwd}@{env.host}/{db}')\n",
    "        customers  = pd.read_sql(customers_query, \n",
    "                                 f'mysql+pymysql://{env.user}:{env.pwd}@{env.host}/{db}')\n",
    "        orders     = pd.read_sql(orders_query, \n",
    "                                 f'mysql+pymysql://{env.user}:{env.pwd}@{env.host}/{db}')\n",
    "        products   = pd.read_sql(products_query, \n",
    "                                 f'mysql+pymysql://{env.user}:{env.pwd}@{env.host}/{db}')\n",
    "        regions    = pd.read_sql(regions_query, \n",
    "                                 f'mysql+pymysql://{env.user}:{env.pwd}@{env.host}/{db}')\n",
    "        \n",
    "        # join tables\n",
    "        df = orders.merge(customers, on='Customer ID', how='left')\n",
    "        df = df.merge(categories, on='Category ID', how='left')\n",
    "        df = df.merge(regions, on='Region ID', how='left')\n",
    "        df = df.merge(products, on='Product ID', how='left')\n",
    "\n",
    "        df.to_csv(filename, index=False)\n",
    "        \n",
    "        return df\n",
    "    \n",
    "    return pd.read_csv(filename)"
   ]
  },
  {
   "cell_type": "code",
   "execution_count": 4,
   "id": "b6f9ec2a",
   "metadata": {},
   "outputs": [],
   "source": [
    "df = acquire_store_data()"
   ]
  },
  {
   "cell_type": "code",
   "execution_count": 5,
   "id": "77f3f9e0",
   "metadata": {},
   "outputs": [
    {
     "data": {
      "text/html": [
       "<div>\n",
       "<style scoped>\n",
       "    .dataframe tbody tr th:only-of-type {\n",
       "        vertical-align: middle;\n",
       "    }\n",
       "\n",
       "    .dataframe tbody tr th {\n",
       "        vertical-align: top;\n",
       "    }\n",
       "\n",
       "    .dataframe thead th {\n",
       "        text-align: right;\n",
       "    }\n",
       "</style>\n",
       "<table border=\"1\" class=\"dataframe\">\n",
       "  <thead>\n",
       "    <tr style=\"text-align: right;\">\n",
       "      <th></th>\n",
       "      <th>Order ID</th>\n",
       "      <th>Order Date</th>\n",
       "      <th>Ship Date</th>\n",
       "      <th>Ship Mode</th>\n",
       "      <th>Customer ID</th>\n",
       "      <th>Segment</th>\n",
       "      <th>Country</th>\n",
       "      <th>City</th>\n",
       "      <th>State</th>\n",
       "      <th>Postal Code</th>\n",
       "      <th>Product ID</th>\n",
       "      <th>Sales</th>\n",
       "      <th>Quantity</th>\n",
       "      <th>Discount</th>\n",
       "      <th>Profit</th>\n",
       "      <th>Category ID</th>\n",
       "      <th>Region ID</th>\n",
       "      <th>Customer Name</th>\n",
       "      <th>Category</th>\n",
       "      <th>Sub-Category</th>\n",
       "      <th>Region Name</th>\n",
       "      <th>Product Name</th>\n",
       "    </tr>\n",
       "  </thead>\n",
       "  <tbody>\n",
       "    <tr>\n",
       "      <th>0</th>\n",
       "      <td>CA-2016-152156</td>\n",
       "      <td>2016-11-08</td>\n",
       "      <td>2016-11-11</td>\n",
       "      <td>Second Class</td>\n",
       "      <td>CG-12520</td>\n",
       "      <td>Consumer</td>\n",
       "      <td>United States</td>\n",
       "      <td>Henderson</td>\n",
       "      <td>Kentucky</td>\n",
       "      <td>42420.0</td>\n",
       "      <td>FUR-BO-10001798</td>\n",
       "      <td>261.96</td>\n",
       "      <td>2.0</td>\n",
       "      <td>0.0</td>\n",
       "      <td>41.9136</td>\n",
       "      <td>1</td>\n",
       "      <td>1</td>\n",
       "      <td>Claire Gute</td>\n",
       "      <td>Furniture</td>\n",
       "      <td>Bookcases</td>\n",
       "      <td>South</td>\n",
       "      <td>Bush Somerset Collection Bookcase</td>\n",
       "    </tr>\n",
       "    <tr>\n",
       "      <th>1</th>\n",
       "      <td>CA-2016-152156</td>\n",
       "      <td>2016-11-08</td>\n",
       "      <td>2016-11-11</td>\n",
       "      <td>Second Class</td>\n",
       "      <td>CG-12520</td>\n",
       "      <td>Consumer</td>\n",
       "      <td>United States</td>\n",
       "      <td>Henderson</td>\n",
       "      <td>Kentucky</td>\n",
       "      <td>42420.0</td>\n",
       "      <td>FUR-CH-10000454</td>\n",
       "      <td>731.94</td>\n",
       "      <td>3.0</td>\n",
       "      <td>0.0</td>\n",
       "      <td>219.5820</td>\n",
       "      <td>2</td>\n",
       "      <td>1</td>\n",
       "      <td>Claire Gute</td>\n",
       "      <td>Furniture</td>\n",
       "      <td>Chairs</td>\n",
       "      <td>South</td>\n",
       "      <td>Hon Deluxe Fabric Upholstered Stacking Chairs,...</td>\n",
       "    </tr>\n",
       "    <tr>\n",
       "      <th>2</th>\n",
       "      <td>CA-2016-138688</td>\n",
       "      <td>2016-06-12</td>\n",
       "      <td>2016-06-16</td>\n",
       "      <td>Second Class</td>\n",
       "      <td>DV-13045</td>\n",
       "      <td>Corporate</td>\n",
       "      <td>United States</td>\n",
       "      <td>Los Angeles</td>\n",
       "      <td>California</td>\n",
       "      <td>90036.0</td>\n",
       "      <td>OFF-LA-10000240</td>\n",
       "      <td>14.62</td>\n",
       "      <td>2.0</td>\n",
       "      <td>0.0</td>\n",
       "      <td>6.8714</td>\n",
       "      <td>3</td>\n",
       "      <td>2</td>\n",
       "      <td>Darrin Van Huff</td>\n",
       "      <td>Office Supplies</td>\n",
       "      <td>Labels</td>\n",
       "      <td>West</td>\n",
       "      <td>Self-Adhesive Address Labels for Typewriters b...</td>\n",
       "    </tr>\n",
       "  </tbody>\n",
       "</table>\n",
       "</div>"
      ],
      "text/plain": [
       "         Order ID  Order Date   Ship Date     Ship Mode Customer ID  \\\n",
       "0  CA-2016-152156  2016-11-08  2016-11-11  Second Class    CG-12520   \n",
       "1  CA-2016-152156  2016-11-08  2016-11-11  Second Class    CG-12520   \n",
       "2  CA-2016-138688  2016-06-12  2016-06-16  Second Class    DV-13045   \n",
       "\n",
       "     Segment        Country         City       State  Postal Code  \\\n",
       "0   Consumer  United States    Henderson    Kentucky      42420.0   \n",
       "1   Consumer  United States    Henderson    Kentucky      42420.0   \n",
       "2  Corporate  United States  Los Angeles  California      90036.0   \n",
       "\n",
       "        Product ID   Sales  Quantity  Discount    Profit  Category ID  \\\n",
       "0  FUR-BO-10001798  261.96       2.0       0.0   41.9136            1   \n",
       "1  FUR-CH-10000454  731.94       3.0       0.0  219.5820            2   \n",
       "2  OFF-LA-10000240   14.62       2.0       0.0    6.8714            3   \n",
       "\n",
       "   Region ID    Customer Name         Category Sub-Category Region Name  \\\n",
       "0          1      Claire Gute        Furniture    Bookcases       South   \n",
       "1          1      Claire Gute        Furniture       Chairs       South   \n",
       "2          2  Darrin Van Huff  Office Supplies       Labels        West   \n",
       "\n",
       "                                        Product Name  \n",
       "0                  Bush Somerset Collection Bookcase  \n",
       "1  Hon Deluxe Fabric Upholstered Stacking Chairs,...  \n",
       "2  Self-Adhesive Address Labels for Typewriters b...  "
      ]
     },
     "execution_count": 5,
     "metadata": {},
     "output_type": "execute_result"
    }
   ],
   "source": [
    "df.head(3)"
   ]
  },
  {
   "cell_type": "markdown",
   "id": "2cd230d6",
   "metadata": {},
   "source": [
    "# Prepare\n",
    "\n",
    "1. rename columns\n",
    "1. check for missing values\n",
    "    1. check for empty string values\n",
    "1. drop duplicate columns (foreign keys)\n",
    "1. check for duplicate rows\n",
    "1. ensure correct data types\n",
    "1. univariate analysis\n",
    "    1. view value counts\n",
    "    1. note outliers and handle appropriately\n",
    "    1. view distributions of numeric data\n",
    "1. engineer features that may be useful"
   ]
  },
  {
   "cell_type": "markdown",
   "id": "496c2c7f",
   "metadata": {},
   "source": [
    "1. Rename columns"
   ]
  },
  {
   "cell_type": "code",
   "execution_count": 6,
   "id": "ab3b882f",
   "metadata": {},
   "outputs": [
    {
     "data": {
      "text/plain": [
       "Index(['order_id', 'order_date', 'ship_date', 'ship_mode', 'customer_id',\n",
       "       'segment', 'country', 'city', 'state', 'postal_code', 'product_id',\n",
       "       'sales', 'quantity', 'discount', 'profit', 'category_id', 'region_id',\n",
       "       'customer_name', 'category', 'sub_category', 'region_name',\n",
       "       'product_name'],\n",
       "      dtype='object')"
      ]
     },
     "execution_count": 6,
     "metadata": {},
     "output_type": "execute_result"
    }
   ],
   "source": [
    "df.columns = [re.sub(r'[^a-zA-Z]', '_', col.lower()) for col in df.columns]\n",
    "df.columns"
   ]
  },
  {
   "cell_type": "markdown",
   "id": "f0f954d9",
   "metadata": {},
   "source": [
    "2. check missing values"
   ]
  },
  {
   "cell_type": "code",
   "execution_count": 7,
   "id": "8ca8201e",
   "metadata": {},
   "outputs": [
    {
     "data": {
      "text/plain": [
       "order_id         0\n",
       "order_date       0\n",
       "ship_date        0\n",
       "ship_mode        0\n",
       "customer_id      0\n",
       "segment          0\n",
       "country          0\n",
       "city             0\n",
       "state            0\n",
       "postal_code      0\n",
       "product_id       0\n",
       "sales            0\n",
       "quantity         0\n",
       "discount         0\n",
       "profit           0\n",
       "category_id      0\n",
       "region_id        0\n",
       "customer_name    0\n",
       "category         0\n",
       "sub_category     0\n",
       "region_name      0\n",
       "product_name     0\n",
       "dtype: int64"
      ]
     },
     "execution_count": 7,
     "metadata": {},
     "output_type": "execute_result"
    }
   ],
   "source": [
    "df.isna().sum()"
   ]
  },
  {
   "cell_type": "markdown",
   "id": "0d06aaf4",
   "metadata": {},
   "source": [
    "Look for empty string values"
   ]
  },
  {
   "cell_type": "code",
   "execution_count": 8,
   "id": "29b3ccec",
   "metadata": {},
   "outputs": [
    {
     "data": {
      "text/plain": [
       "[]"
      ]
     },
     "execution_count": 8,
     "metadata": {},
     "output_type": "execute_result"
    }
   ],
   "source": [
    "def identify_cols_with_white_space(df):\n",
    "    '''\n",
    "    Takes in a DataFrame\n",
    "    Prints columns with any values that are whitespace\n",
    "    Returns columns in a list\n",
    "    '''\n",
    "    \n",
    "    cols_w_white_space = []\n",
    "    \n",
    "    for col in df.columns:\n",
    "        # check string/object columns\n",
    "        if df[col].dtype == 'O':\n",
    "            # check for any values in the column that are empty or whitespace\n",
    "            is_whitespace = df[col].str.isspace()\n",
    "            has_whitespace = is_whitespace.any()\n",
    "            if has_whitespace:\n",
    "                print(f'{col} has whitespace')\n",
    "                cols_w_white_space.append(col)\n",
    "    return cols_w_white_space\n",
    "\n",
    "identify_cols_with_white_space(df)"
   ]
  },
  {
   "cell_type": "markdown",
   "id": "77263c7b",
   "metadata": {},
   "source": [
    "3. drop foreign key columns"
   ]
  },
  {
   "cell_type": "code",
   "execution_count": 9,
   "id": "21d999dd",
   "metadata": {},
   "outputs": [],
   "source": [
    "df = df.drop(columns=['customer_id','product_id',\n",
    "                      'category_id', 'region_id'])"
   ]
  },
  {
   "cell_type": "markdown",
   "id": "bdc250be",
   "metadata": {},
   "source": [
    "4. drop duplicate rows\n",
    "- there are duplicate orders, but that's fine. I'm am analyzing each item purchased"
   ]
  },
  {
   "cell_type": "code",
   "execution_count": 10,
   "id": "f7321544",
   "metadata": {},
   "outputs": [
    {
     "data": {
      "text/plain": [
       "0"
      ]
     },
     "execution_count": 10,
     "metadata": {},
     "output_type": "execute_result"
    }
   ],
   "source": [
    "df.duplicated().sum()"
   ]
  },
  {
   "cell_type": "code",
   "execution_count": 11,
   "id": "dac350ed",
   "metadata": {},
   "outputs": [
    {
     "data": {
      "text/plain": [
       "893"
      ]
     },
     "execution_count": 11,
     "metadata": {},
     "output_type": "execute_result"
    }
   ],
   "source": [
    "df['order_id'].duplicated().sum()"
   ]
  },
  {
   "cell_type": "markdown",
   "id": "02ef6c82",
   "metadata": {},
   "source": [
    "5. check data types"
   ]
  },
  {
   "cell_type": "code",
   "execution_count": 12,
   "id": "c3c910fc",
   "metadata": {},
   "outputs": [
    {
     "data": {
      "text/plain": [
       "order_id          object\n",
       "order_date        object\n",
       "ship_date         object\n",
       "ship_mode         object\n",
       "segment           object\n",
       "country           object\n",
       "city              object\n",
       "state             object\n",
       "postal_code      float64\n",
       "sales            float64\n",
       "quantity         float64\n",
       "discount         float64\n",
       "profit           float64\n",
       "customer_name     object\n",
       "category          object\n",
       "sub_category      object\n",
       "region_name       object\n",
       "product_name      object\n",
       "dtype: object"
      ]
     },
     "execution_count": 12,
     "metadata": {},
     "output_type": "execute_result"
    }
   ],
   "source": [
    "df.dtypes"
   ]
  },
  {
   "cell_type": "code",
   "execution_count": 13,
   "id": "55499c2d",
   "metadata": {},
   "outputs": [],
   "source": [
    "df['order_date'] = pd.to_datetime(df['order_date'])\n",
    "df['ship_date'] = pd.to_datetime(df['ship_date'])\n",
    "df['postal_code'] = df['postal_code'].astype(int)\n",
    "df['quantity'] = df['quantity'].astype(int)"
   ]
  },
  {
   "cell_type": "markdown",
   "id": "d40b8b6e",
   "metadata": {},
   "source": [
    "6. univariate analysis\n",
    "\n",
    "    6a. view value counts\n",
    "\n",
    "Notes:\n",
    "- `order_id`s: start with US or CA, 2014-2017\n",
    "- only `country` is US so we can drop this column\n",
    "- majority of orders are in the Office Supplies `category`\n",
    "- should bin 0-10, 15-20, 30-50, >50"
   ]
  },
  {
   "cell_type": "code",
   "execution_count": 14,
   "id": "cead485f",
   "metadata": {},
   "outputs": [
    {
     "data": {
      "text/plain": [
       "US-2016-108504    11\n",
       "CA-2015-131338    10\n",
       "CA-2017-117457     9\n",
       "US-2016-110156     8\n",
       "US-2017-118087     8\n",
       "                  ..\n",
       "CA-2016-152632     1\n",
       "CA-2016-167584     1\n",
       "CA-2014-134677     1\n",
       "CA-2016-161781     1\n",
       "CA-2017-150707     1\n",
       "Name: order_id, Length: 841, dtype: int64"
      ]
     },
     "metadata": {},
     "output_type": "display_data"
    },
    {
     "data": {
      "text/plain": [
       "2015-09-26    14\n",
       "2016-10-28    14\n",
       "2017-12-08    13\n",
       "2016-06-20    13\n",
       "2016-11-24    13\n",
       "              ..\n",
       "2014-03-10     1\n",
       "2014-04-21     1\n",
       "2015-10-22     1\n",
       "2015-08-22     1\n",
       "2015-02-08     1\n",
       "Name: order_date, Length: 570, dtype: int64"
      ]
     },
     "metadata": {},
     "output_type": "display_data"
    },
    {
     "data": {
      "text/plain": [
       "2016-11-24    17\n",
       "2016-11-26    13\n",
       "2017-11-21    11\n",
       "2017-12-12    11\n",
       "2016-02-05    11\n",
       "              ..\n",
       "2014-10-10     1\n",
       "2015-05-14     1\n",
       "2016-07-19     1\n",
       "2016-07-07     1\n",
       "2017-09-22     1\n",
       "Name: ship_date, Length: 608, dtype: int64"
      ]
     },
     "metadata": {},
     "output_type": "display_data"
    },
    {
     "data": {
      "text/plain": [
       "Standard Class    980\n",
       "Second Class      354\n",
       "First Class       326\n",
       "Same Day           74\n",
       "Name: ship_mode, dtype: int64"
      ]
     },
     "metadata": {},
     "output_type": "display_data"
    },
    {
     "data": {
      "text/plain": [
       "Consumer       954\n",
       "Corporate      478\n",
       "Home Office    302\n",
       "Name: segment, dtype: int64"
      ]
     },
     "metadata": {},
     "output_type": "display_data"
    },
    {
     "data": {
      "text/plain": [
       "United States    1734\n",
       "Name: country, dtype: int64"
      ]
     },
     "metadata": {},
     "output_type": "display_data"
    },
    {
     "data": {
      "text/plain": [
       "New York City     192\n",
       "Los Angeles       124\n",
       "Philadelphia      123\n",
       "San Francisco      96\n",
       "Seattle            62\n",
       "                 ... \n",
       "Jefferson City      1\n",
       "Murrieta            1\n",
       "Boca Raton          1\n",
       "Murfreesboro        1\n",
       "Bristol             1\n",
       "Name: city, Length: 247, dtype: int64"
      ]
     },
     "metadata": {},
     "output_type": "display_data"
    },
    {
     "data": {
      "text/plain": [
       "California              326\n",
       "New York                240\n",
       "Texas                   167\n",
       "Pennsylvania            137\n",
       "Ohio                     90\n",
       "Washington               82\n",
       "Illinois                 77\n",
       "Florida                  61\n",
       "Michigan                 54\n",
       "Arizona                  52\n",
       "Colorado                 46\n",
       "North Carolina           44\n",
       "Virginia                 35\n",
       "Georgia                  32\n",
       "Minnesota                32\n",
       "New Jersey               29\n",
       "Kentucky                 22\n",
       "Indiana                  22\n",
       "Massachusetts            16\n",
       "Tennessee                13\n",
       "Alabama                  13\n",
       "Wisconsin                13\n",
       "Delaware                 12\n",
       "Oregon                   12\n",
       "Utah                     12\n",
       "Iowa                     11\n",
       "Louisiana                10\n",
       "Connecticut               9\n",
       "Arkansas                  8\n",
       "Mississippi               7\n",
       "District of Columbia      7\n",
       "Maryland                  6\n",
       "Nevada                    5\n",
       "Rhode Island              5\n",
       "Missouri                  5\n",
       "Nebraska                  5\n",
       "New Hampshire             5\n",
       "Montana                   4\n",
       "Oklahoma                  3\n",
       "South Carolina            3\n",
       "New Mexico                2\n",
       "Name: state, dtype: int64"
      ]
     },
     "metadata": {},
     "output_type": "display_data"
    },
    {
     "data": {
      "text/plain": [
       "10024    55\n",
       "10035    53\n",
       "10009    48\n",
       "94110    42\n",
       "10011    36\n",
       "         ..\n",
       "94509     1\n",
       "92646     1\n",
       "73071     1\n",
       "94521     1\n",
       "84041     1\n",
       "Name: postal_code, Length: 306, dtype: int64"
      ]
     },
     "metadata": {},
     "output_type": "display_data"
    },
    {
     "data": {
      "text/plain": [
       "12.960     9\n",
       "15.552     9\n",
       "19.440     6\n",
       "10.368     6\n",
       "32.400     6\n",
       "          ..\n",
       "470.376    1\n",
       "51.520     1\n",
       "8.792      1\n",
       "69.712     1\n",
       "154.240    1\n",
       "Name: sales, Length: 1504, dtype: int64"
      ]
     },
     "metadata": {},
     "output_type": "display_data"
    },
    {
     "data": {
      "text/plain": [
       "3     432\n",
       "2     425\n",
       "4     206\n",
       "5     180\n",
       "1     155\n",
       "7     115\n",
       "6      98\n",
       "8      50\n",
       "9      40\n",
       "14      9\n",
       "10      8\n",
       "13      7\n",
       "12      6\n",
       "11      3\n",
       "Name: quantity, dtype: int64"
      ]
     },
     "metadata": {},
     "output_type": "display_data"
    },
    {
     "data": {
      "text/plain": [
       "0.00    810\n",
       "0.20    656\n",
       "0.70     82\n",
       "0.80     46\n",
       "0.40     41\n",
       "0.30     31\n",
       "0.60     19\n",
       "0.50     18\n",
       "0.10     14\n",
       "0.15      8\n",
       "0.45      5\n",
       "0.32      4\n",
       "Name: discount, dtype: int64"
      ]
     },
     "metadata": {},
     "output_type": "display_data"
    },
    {
     "data": {
      "text/plain": [
       "0.0000     14\n",
       "6.2208      8\n",
       "5.4432      8\n",
       "15.5520     6\n",
       "3.6288      6\n",
       "           ..\n",
       "2.1900      1\n",
       "9.7608      1\n",
       "78.7528     1\n",
       "4.0095      1\n",
       "17.3520     1\n",
       "Name: profit, Length: 1589, dtype: int64"
      ]
     },
     "metadata": {},
     "output_type": "display_data"
    },
    {
     "data": {
      "text/plain": [
       "Zuschuss Carroll    16\n",
       "Naresj Patel        15\n",
       "Joel Eaton          15\n",
       "Becky Martin        13\n",
       "Ross Baird          13\n",
       "                    ..\n",
       "Rose O'Brian         1\n",
       "Sonia Sunley         1\n",
       "Larry Hughes         1\n",
       "Xylona Preis         1\n",
       "Filia McAdams        1\n",
       "Name: customer_name, Length: 525, dtype: int64"
      ]
     },
     "metadata": {},
     "output_type": "display_data"
    },
    {
     "data": {
      "text/plain": [
       "Office Supplies    1055\n",
       "Furniture           360\n",
       "Technology          319\n",
       "Name: category, dtype: int64"
      ]
     },
     "metadata": {},
     "output_type": "display_data"
    },
    {
     "data": {
      "text/plain": [
       "Binders        263\n",
       "Paper          224\n",
       "Furnishings    168\n",
       "Storage        162\n",
       "Phones         157\n",
       "Art            149\n",
       "Accessories    131\n",
       "Chairs          95\n",
       "Appliances      71\n",
       "Labels          67\n",
       "Tables          62\n",
       "Envelopes       48\n",
       "Fasteners       43\n",
       "Bookcases       35\n",
       "Supplies        28\n",
       "Machines        21\n",
       "Copiers         10\n",
       "Name: sub_category, dtype: int64"
      ]
     },
     "metadata": {},
     "output_type": "display_data"
    },
    {
     "data": {
      "text/plain": [
       "East       556\n",
       "West       541\n",
       "Central    389\n",
       "South      248\n",
       "Name: region_name, dtype: int64"
      ]
     },
     "metadata": {},
     "output_type": "display_data"
    },
    {
     "data": {
      "text/plain": [
       "Easy-staple paper                                                 10\n",
       "Staples                                                            9\n",
       "Xerox 1881                                                         7\n",
       "Staple envelope                                                    6\n",
       "DAX Value U-Channel Document Frames, Easel Back                    6\n",
       "                                                                  ..\n",
       "Jabra SPEAK 410                                                    1\n",
       "Verbatim 25 GB 6x Blu-ray Single Layer Recordable Disc, 1/Pack     1\n",
       "Office Star - Mesh Screen back chair with Vinyl seat               1\n",
       "Premium Transparent Presentation Covers by GBC                     1\n",
       "White GlueTop Scratch Pads                                         1\n",
       "Name: product_name, Length: 1091, dtype: int64"
      ]
     },
     "metadata": {},
     "output_type": "display_data"
    }
   ],
   "source": [
    "for col in df.columns:\n",
    "    display(df[col].value_counts())"
   ]
  },
  {
   "cell_type": "markdown",
   "id": "cd3dfd81",
   "metadata": {},
   "source": [
    "View unique order IDs\n",
    "- First two letters (country)\n",
    "- Middle 4 numbers (year)"
   ]
  },
  {
   "cell_type": "code",
   "execution_count": 15,
   "id": "7a8d7b82",
   "metadata": {},
   "outputs": [
    {
     "data": {
      "text/plain": [
       "array(['CA', 'US'], dtype=object)"
      ]
     },
     "execution_count": 15,
     "metadata": {},
     "output_type": "execute_result"
    }
   ],
   "source": [
    "df['order_id'].str[:2].unique()"
   ]
  },
  {
   "cell_type": "code",
   "execution_count": 16,
   "id": "18508ee0",
   "metadata": {},
   "outputs": [
    {
     "data": {
      "text/plain": [
       "array(['2016', '2015', '2014', '2017'], dtype=object)"
      ]
     },
     "execution_count": 16,
     "metadata": {},
     "output_type": "execute_result"
    }
   ],
   "source": [
    "df['order_id'].str[3:7].unique()"
   ]
  },
  {
   "cell_type": "markdown",
   "id": "09ef89c0",
   "metadata": {},
   "source": [
    "6b. note and handle outliers appropriately\n",
    "- sales above 500\n",
    "- quantities above 9\n",
    "- discounts > 50%\n",
    "- profits not between -25 and 50\n",
    "\n",
    "**Note: for now outliers will be kept**"
   ]
  },
  {
   "cell_type": "code",
   "execution_count": 17,
   "id": "5d937ab1",
   "metadata": {
    "scrolled": true
   },
   "outputs": [
    {
     "data": {
      "image/png": "[encoded data removed]",
      "text/plain": [
       "<Figure size 800x300 with 1 Axes>"
      ]
     },
     "metadata": {},
     "output_type": "display_data"
    },
    {
     "data": {
      "image/png": "[encoded data removed]",
      "text/plain": [
       "<Figure size 800x300 with 1 Axes>"
      ]
     },
     "metadata": {},
     "output_type": "display_data"
    },
    {
     "data": {
      "image/png": "[encoded data removed]",
      "text/plain": [
       "<Figure size 800x300 with 1 Axes>"
      ]
     },
     "metadata": {},
     "output_type": "display_data"
    },
    {
     "data": {
      "image/png": "[encoded data removed]",
      "text/plain": [
       "<Figure size 800x300 with 1 Axes>"
      ]
     },
     "metadata": {},
     "output_type": "display_data"
    },
    {
     "data": {
      "image/png": "[encoded data removed]",
      "text/plain": [
       "<Figure size 800x300 with 1 Axes>"
      ]
     },
     "metadata": {},
     "output_type": "display_data"
    }
   ],
   "source": [
    "for col in df.columns:\n",
    "    if pd.api.types.is_numeric_dtype(df[col]):\n",
    "        plt.figure(figsize=(8, 3))\n",
    "        sns.boxplot(data=df, x=col)\n",
    "        plt.title(f'Boxplot of {col}')\n",
    "        plt.show()"
   ]
  },
  {
   "cell_type": "markdown",
   "id": "a7f2a798",
   "metadata": {},
   "source": [
    "6c. view distributions of numeric data"
   ]
  },
  {
   "cell_type": "code",
   "execution_count": 18,
   "id": "5d552af7",
   "metadata": {},
   "outputs": [
    {
     "data": {
      "image/png": "[encoded data removed]",
      "text/plain": [
       "<Figure size 500x200 with 1 Axes>"
      ]
     },
     "metadata": {},
     "output_type": "display_data"
    },
    {
     "data": {
      "image/png": "[encoded data removed]",
      "text/plain": [
       "<Figure size 500x200 with 1 Axes>"
      ]
     },
     "metadata": {},
     "output_type": "display_data"
    },
    {
     "data": {
      "image/png": "[encoded data removed]",
      "text/plain": [
       "<Figure size 500x200 with 1 Axes>"
      ]
     },
     "metadata": {},
     "output_type": "display_data"
    },
    {
     "data": {
      "image/png": "[encoded data removed]",
      "text/plain": [
       "<Figure size 500x200 with 1 Axes>"
      ]
     },
     "metadata": {},
     "output_type": "display_data"
    },
    {
     "data": {
      "image/png": "[encoded data removed]",
      "text/plain": [
       "<Figure size 500x200 with 1 Axes>"
      ]
     },
     "metadata": {},
     "output_type": "display_data"
    }
   ],
   "source": [
    "for col in df.columns:\n",
    "    if pd.api.types.is_numeric_dtype(df[col]):\n",
    "        plt.figure(figsize=(5, 2))\n",
    "        sns.histplot(data=df, x=col)\n",
    "        plt.title(f'Boxplot of {col}')\n",
    "        plt.show()"
   ]
  },
  {
   "cell_type": "markdown",
   "id": "3c8bce72",
   "metadata": {},
   "source": [
    "Feature Engineering\n",
    "- Add order month / year\n",
    "- Add `cost` column which is `sales` - `profit`"
   ]
  },
  {
   "cell_type": "code",
   "execution_count": 19,
   "id": "19b74947",
   "metadata": {},
   "outputs": [],
   "source": [
    "df['order_month'] = df['order_date'].dt.month\n",
    "df['order_year'] = df['order_date'].dt.year"
   ]
  },
  {
   "cell_type": "code",
   "execution_count": 20,
   "id": "5f2f5245",
   "metadata": {},
   "outputs": [],
   "source": [
    "df['cost'] = df['sales'] - df['profit']"
   ]
  },
  {
   "cell_type": "markdown",
   "id": "4e6eb0ff",
   "metadata": {},
   "source": [
    "Combine into a function"
   ]
  },
  {
   "cell_type": "code",
   "execution_count": 21,
   "id": "f33c7ebf",
   "metadata": {},
   "outputs": [],
   "source": [
    "def prep_store_data(df):\n",
    "    \"\"\"\n",
    "    Preprocesses and cleans the store data DataFrame.\n",
    "    \n",
    "    Args:\n",
    "    df (DataFrame): Input DataFrame containing raw store data.\n",
    "    \n",
    "    Returns:\n",
    "    DataFrame: Prepared DataFrame with cleaned columns and new features.\n",
    "    \"\"\"\n",
    "    # Clean column names by converting to lowercase and replacing white spaces with underscores\n",
    "    df.columns = [re.sub(r'[^a-zA-Z]', '_', col.lower()) for col in df.columns]\n",
    "\n",
    "    # Drop foreign key columns\n",
    "    df = df.drop(columns=['customer_id', 'product_id', 'category_id', 'region_id'])\n",
    "    \n",
    "    # Convert date columns to datetime\n",
    "    df['order_date'] = pd.to_datetime(df['order_date'])\n",
    "    df['ship_date'] = pd.to_datetime(df['ship_date'])\n",
    "    \n",
    "    # Convert postal_code and quantity columns to integers\n",
    "    df['postal_code'] = df['postal_code'].astype(int)\n",
    "    df['quantity'] = df['quantity'].astype(int)\n",
    "    \n",
    "    # Extract order month and year from order_date\n",
    "    df['order_month'] = df['order_date'].dt.month\n",
    "    df['order_year'] = df['order_date'].dt.year\n",
    "    \n",
    "    # Calculate cost column\n",
    "    df['cost'] = df['sales'] - df['profit']\n",
    "    \n",
    "    return df"
   ]
  }
 ],
 "metadata": {
  "kernelspec": {
   "display_name": "Python 3 (ipykernel)",
   "language": "python",
   "name": "python3"
  },
  "language_info": {
   "codemirror_mode": {
    "name": "ipython",
    "version": 3
   },
   "file_extension": ".py",
   "mimetype": "text/x-python",
   "name": "python",
   "nbconvert_exporter": "python",
   "pygments_lexer": "ipython3",
   "version": "3.10.9"
  },
  "varInspector": {
   "cols": {
    "lenName": 16,
    "lenType": 16,
    "lenVar": 40
   },
   "kernels_config": {
    "python": {
     "delete_cmd_postfix": "",
     "delete_cmd_prefix": "del ",
     "library": "var_list.py",
     "varRefreshCmd": "print(var_dic_list())"
    },
    "r": {
     "delete_cmd_postfix": ") ",
     "delete_cmd_prefix": "rm(",
     "library": "var_list.r",
     "varRefreshCmd": "cat(var_dic_list()) "
    }
   },
   "types_to_exclude": [
    "module",
    "function",
    "builtin_function_or_method",
    "instance",
    "_Feature"
   ],
   "window_display": false
  }
 },
 "nbformat": 4,
 "nbformat_minor": 5
}
